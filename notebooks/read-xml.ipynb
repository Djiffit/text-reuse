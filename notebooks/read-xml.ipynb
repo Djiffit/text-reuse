{
 "cells": [
  {
   "cell_type": "code",
   "execution_count": 1,
   "metadata": {},
   "outputs": [],
   "source": [
    "from xml.dom import minidom"
   ]
  },
  {
   "cell_type": "code",
   "execution_count": 5,
   "metadata": {},
   "outputs": [],
   "source": [
    "doc = minidom.parse('../data/transfer_27765_files_2ae26df5/eebopool/eebo/eebo_phase1/A0/A00002/A00002.headed.xml')"
   ]
  },
  {
   "cell_type": "code",
   "execution_count": 19,
   "metadata": {},
   "outputs": [
    {
     "data": {
      "text/plain": [
       "'<FILEDESC><TITLESTMT><TITLE TYPE=\"245\" I2=\"4\">The brides ornaments viz. fiue meditations, morall and diuine. 1. Knowledge, 2. zeale, 3. temperance, 4. bountie, 5. ioy.</TITLE><AUTHOR>Aylett, Robert, 1583-1655?</AUTHOR></TITLESTMT><EXTENT>Approx. 248 KB of XML-encoded text transcribed from 67 1-bit group-IV TIFF page images.</EXTENT><PUBLICATIONSTMT><PUBPLACE>Ann Arbor, MI ; Oxford (UK) :</PUBPLACE><PUBLISHER>Text Creation Partnership,</PUBLISHER><DATE>2003-07 (EEBO-TCP Phase 1).</DATE><IDNO TYPE=\"DLPS\">A00002</IDNO>'"
      ]
     },
     "execution_count": 19,
     "metadata": {},
     "output_type": "execute_result"
    }
   ],
   "source": [
    "'<FILEDESC><TITLESTMT><TITLE TYPE=\"245\" I2=\"4\">The brides ornaments viz. fiue meditations, morall and diuine. 1. Knowledge, 2. zeale, 3. temperance, 4. bountie, 5. ioy.</TITLE><AUTHOR>Aylett, Robert, 1583-1655?</AUTHOR></TITLESTMT><EXTENT>Approx. 248 KB of XML-encoded text transcribed from 67 1-bit group-IV TIFF page images.</EXTENT><PUBLICATIONSTMT><PUBPLACE>Ann Arbor, MI ; Oxford (UK) :</PUBPLACE><PUBLISHER>Text Creation Partnership,</PUBLISHER><DATE>2003-07 (EEBO-TCP Phase 1).</DATE><IDNO TYPE=\"DLPS\">A00002</IDNO>'"
   ]
  },
  {
   "cell_type": "code",
   "execution_count": 67,
   "metadata": {},
   "outputs": [
    {
     "data": {
      "text/plain": [
       "'Aylett, Robert, 1583-1655?'"
      ]
     },
     "execution_count": 67,
     "metadata": {},
     "output_type": "execute_result"
    }
   ],
   "source": [
    "doc.getElementsByTagName('AUTHOR')[0].firstChild.data"
   ]
  },
  {
   "cell_type": "code",
   "execution_count": 66,
   "metadata": {},
   "outputs": [
    {
     "data": {
      "text/plain": [
       "['ATTRIBUTE_NODE',\n",
       " 'CDATA_SECTION_NODE',\n",
       " 'COMMENT_NODE',\n",
       " 'DOCUMENT_FRAGMENT_NODE',\n",
       " 'DOCUMENT_NODE',\n",
       " 'DOCUMENT_TYPE_NODE',\n",
       " 'ELEMENT_NODE',\n",
       " 'ENTITY_NODE',\n",
       " 'ENTITY_REFERENCE_NODE',\n",
       " 'NOTATION_NODE',\n",
       " 'PROCESSING_INSTRUCTION_NODE',\n",
       " 'TEXT_NODE',\n",
       " '__bool__',\n",
       " '__class__',\n",
       " '__delattr__',\n",
       " '__dict__',\n",
       " '__dir__',\n",
       " '__doc__',\n",
       " '__enter__',\n",
       " '__eq__',\n",
       " '__exit__',\n",
       " '__format__',\n",
       " '__ge__',\n",
       " '__getattribute__',\n",
       " '__gt__',\n",
       " '__hash__',\n",
       " '__init__',\n",
       " '__init_subclass__',\n",
       " '__le__',\n",
       " '__len__',\n",
       " '__lt__',\n",
       " '__module__',\n",
       " '__ne__',\n",
       " '__new__',\n",
       " '__reduce__',\n",
       " '__reduce_ex__',\n",
       " '__repr__',\n",
       " '__setattr__',\n",
       " '__sizeof__',\n",
       " '__slots__',\n",
       " '__str__',\n",
       " '__subclasshook__',\n",
       " '__weakref__',\n",
       " '_call_user_data_handler',\n",
       " '_data',\n",
       " '_get_childNodes',\n",
       " '_get_data',\n",
       " '_get_firstChild',\n",
       " '_get_isWhitespaceInElementContent',\n",
       " '_get_lastChild',\n",
       " '_get_length',\n",
       " '_get_localName',\n",
       " '_get_wholeText',\n",
       " '_set_data',\n",
       " 'appendChild',\n",
       " 'appendData',\n",
       " 'attributes',\n",
       " 'childNodes',\n",
       " 'cloneNode',\n",
       " 'data',\n",
       " 'deleteData',\n",
       " 'firstChild',\n",
       " 'getInterface',\n",
       " 'getUserData',\n",
       " 'hasChildNodes',\n",
       " 'insertBefore',\n",
       " 'insertData',\n",
       " 'isSameNode',\n",
       " 'isSupported',\n",
       " 'isWhitespaceInElementContent',\n",
       " 'lastChild',\n",
       " 'length',\n",
       " 'localName',\n",
       " 'namespaceURI',\n",
       " 'nextSibling',\n",
       " 'nodeName',\n",
       " 'nodeType',\n",
       " 'nodeValue',\n",
       " 'normalize',\n",
       " 'ownerDocument',\n",
       " 'parentNode',\n",
       " 'prefix',\n",
       " 'previousSibling',\n",
       " 'removeChild',\n",
       " 'replaceChild',\n",
       " 'replaceData',\n",
       " 'replaceWholeText',\n",
       " 'setUserData',\n",
       " 'splitText',\n",
       " 'substringData',\n",
       " 'toprettyxml',\n",
       " 'toxml',\n",
       " 'unlink',\n",
       " 'wholeText',\n",
       " 'writexml']"
      ]
     },
     "execution_count": 66,
     "metadata": {},
     "output_type": "execute_result"
    }
   ],
   "source": [
    "dir(doc.getElementsByTagName('AUTHOR')[0].firstChild)"
   ]
  },
  {
   "cell_type": "code",
   "execution_count": 53,
   "metadata": {},
   "outputs": [],
   "source": [
    "import xml.etree.ElementTree as ET\n",
    "\n",
    "tree = ET.parse('../data/transfer_27765_files_2ae26df5/eebopool/eebo/eebo_phase1/A0/A00002/A00002.headed.xml')"
   ]
  },
  {
   "cell_type": "code",
   "execution_count": 54,
   "metadata": {},
   "outputs": [],
   "source": [
    "root = tree.getroot()"
   ]
  },
  {
   "cell_type": "code",
   "execution_count": 59,
   "metadata": {},
   "outputs": [
    {
     "name": "stdout",
     "output_type": "stream",
     "text": [
      "<Element 'HEADER' at 0x7f56b3abb638>\n",
      "<Element 'EEBO' at 0x7f56b39eec78>\n"
     ]
    }
   ],
   "source": [
    "for elem in root:\n",
    "    print(elem)"
   ]
  },
  {
   "cell_type": "code",
   "execution_count": 95,
   "metadata": {},
   "outputs": [],
   "source": [
    "documents = []\n",
    "\n",
    "def recursive_crawler(folder):\n",
    "    items = os.listdir(folder)\n",
    "    for item in items:\n",
    "        p = folder + '/' + item\n",
    "        if os.path.isdir(p):\n",
    "            recursive_crawler(p)\n",
    "        else:\n",
    "            documents.append(p)"
   ]
  },
  {
   "cell_type": "code",
   "execution_count": 96,
   "metadata": {},
   "outputs": [],
   "source": [
    "start = '../data/transfer_27765_files_2ae26df5/eebopool/eebo'\n",
    "\n",
    "recursive_crawler(start)"
   ]
  },
  {
   "cell_type": "code",
   "execution_count": 223,
   "metadata": {},
   "outputs": [
    {
     "ename": "KeyboardInterrupt",
     "evalue": "",
     "output_type": "error",
     "traceback": [
      "\u001b[0;31m---------------------------------------------------------------------------\u001b[0m",
      "\u001b[0;31mKeyboardInterrupt\u001b[0m                         Traceback (most recent call last)",
      "\u001b[0;32m<ipython-input-223-61f7b6b2dc88>\u001b[0m in \u001b[0;36m<module>\u001b[0;34m\u001b[0m\n\u001b[1;32m      5\u001b[0m \u001b[0;32mfor\u001b[0m \u001b[0mdoc\u001b[0m \u001b[0;32min\u001b[0m \u001b[0mdoc_batch\u001b[0m\u001b[0;34m:\u001b[0m\u001b[0;34m\u001b[0m\u001b[0;34m\u001b[0m\u001b[0m\n\u001b[1;32m      6\u001b[0m     \u001b[0mdoc_id\u001b[0m \u001b[0;34m=\u001b[0m \u001b[0mdoc\u001b[0m\u001b[0;34m.\u001b[0m\u001b[0msplit\u001b[0m\u001b[0;34m(\u001b[0m\u001b[0;34m'/'\u001b[0m\u001b[0;34m)\u001b[0m\u001b[0;34m[\u001b[0m\u001b[0;34m-\u001b[0m\u001b[0;36m1\u001b[0m\u001b[0;34m]\u001b[0m\u001b[0;34m.\u001b[0m\u001b[0msplit\u001b[0m\u001b[0;34m(\u001b[0m\u001b[0;34m'.'\u001b[0m\u001b[0;34m)\u001b[0m\u001b[0;34m[\u001b[0m\u001b[0;36m0\u001b[0m\u001b[0;34m]\u001b[0m\u001b[0;34m\u001b[0m\u001b[0;34m\u001b[0m\u001b[0m\n\u001b[0;32m----> 7\u001b[0;31m     \u001b[0mdoc\u001b[0m \u001b[0;34m=\u001b[0m \u001b[0mminidom\u001b[0m\u001b[0;34m.\u001b[0m\u001b[0mparse\u001b[0m\u001b[0;34m(\u001b[0m\u001b[0mdoc\u001b[0m\u001b[0;34m)\u001b[0m\u001b[0;34m\u001b[0m\u001b[0;34m\u001b[0m\u001b[0m\n\u001b[0m\u001b[1;32m      8\u001b[0m     \u001b[0mbib\u001b[0m \u001b[0;34m=\u001b[0m \u001b[0mdoc\u001b[0m\u001b[0;34m.\u001b[0m\u001b[0mgetElementsByTagName\u001b[0m\u001b[0;34m(\u001b[0m\u001b[0;34m'BIBLFULL'\u001b[0m\u001b[0;34m)\u001b[0m\u001b[0;34m[\u001b[0m\u001b[0;36m0\u001b[0m\u001b[0;34m]\u001b[0m\u001b[0;34m\u001b[0m\u001b[0;34m\u001b[0m\u001b[0m\n\u001b[1;32m      9\u001b[0m \u001b[0;34m\u001b[0m\u001b[0m\n",
      "\u001b[0;32m~/anaconda3/lib/python3.7/xml/dom/minidom.py\u001b[0m in \u001b[0;36mparse\u001b[0;34m(file, parser, bufsize)\u001b[0m\n\u001b[1;32m   1956\u001b[0m     \u001b[0;32mif\u001b[0m \u001b[0mparser\u001b[0m \u001b[0;32mis\u001b[0m \u001b[0;32mNone\u001b[0m \u001b[0;32mand\u001b[0m \u001b[0;32mnot\u001b[0m \u001b[0mbufsize\u001b[0m\u001b[0;34m:\u001b[0m\u001b[0;34m\u001b[0m\u001b[0;34m\u001b[0m\u001b[0m\n\u001b[1;32m   1957\u001b[0m         \u001b[0;32mfrom\u001b[0m \u001b[0mxml\u001b[0m\u001b[0;34m.\u001b[0m\u001b[0mdom\u001b[0m \u001b[0;32mimport\u001b[0m \u001b[0mexpatbuilder\u001b[0m\u001b[0;34m\u001b[0m\u001b[0;34m\u001b[0m\u001b[0m\n\u001b[0;32m-> 1958\u001b[0;31m         \u001b[0;32mreturn\u001b[0m \u001b[0mexpatbuilder\u001b[0m\u001b[0;34m.\u001b[0m\u001b[0mparse\u001b[0m\u001b[0;34m(\u001b[0m\u001b[0mfile\u001b[0m\u001b[0;34m)\u001b[0m\u001b[0;34m\u001b[0m\u001b[0;34m\u001b[0m\u001b[0m\n\u001b[0m\u001b[1;32m   1959\u001b[0m     \u001b[0;32melse\u001b[0m\u001b[0;34m:\u001b[0m\u001b[0;34m\u001b[0m\u001b[0;34m\u001b[0m\u001b[0m\n\u001b[1;32m   1960\u001b[0m         \u001b[0;32mfrom\u001b[0m \u001b[0mxml\u001b[0m\u001b[0;34m.\u001b[0m\u001b[0mdom\u001b[0m \u001b[0;32mimport\u001b[0m \u001b[0mpulldom\u001b[0m\u001b[0;34m\u001b[0m\u001b[0;34m\u001b[0m\u001b[0m\n",
      "\u001b[0;32m~/anaconda3/lib/python3.7/xml/dom/expatbuilder.py\u001b[0m in \u001b[0;36mparse\u001b[0;34m(file, namespaces)\u001b[0m\n\u001b[1;32m    909\u001b[0m     \u001b[0;32mif\u001b[0m \u001b[0misinstance\u001b[0m\u001b[0;34m(\u001b[0m\u001b[0mfile\u001b[0m\u001b[0;34m,\u001b[0m \u001b[0mstr\u001b[0m\u001b[0;34m)\u001b[0m\u001b[0;34m:\u001b[0m\u001b[0;34m\u001b[0m\u001b[0;34m\u001b[0m\u001b[0m\n\u001b[1;32m    910\u001b[0m         \u001b[0;32mwith\u001b[0m \u001b[0mopen\u001b[0m\u001b[0;34m(\u001b[0m\u001b[0mfile\u001b[0m\u001b[0;34m,\u001b[0m \u001b[0;34m'rb'\u001b[0m\u001b[0;34m)\u001b[0m \u001b[0;32mas\u001b[0m \u001b[0mfp\u001b[0m\u001b[0;34m:\u001b[0m\u001b[0;34m\u001b[0m\u001b[0;34m\u001b[0m\u001b[0m\n\u001b[0;32m--> 911\u001b[0;31m             \u001b[0mresult\u001b[0m \u001b[0;34m=\u001b[0m \u001b[0mbuilder\u001b[0m\u001b[0;34m.\u001b[0m\u001b[0mparseFile\u001b[0m\u001b[0;34m(\u001b[0m\u001b[0mfp\u001b[0m\u001b[0;34m)\u001b[0m\u001b[0;34m\u001b[0m\u001b[0;34m\u001b[0m\u001b[0m\n\u001b[0m\u001b[1;32m    912\u001b[0m     \u001b[0;32melse\u001b[0m\u001b[0;34m:\u001b[0m\u001b[0;34m\u001b[0m\u001b[0;34m\u001b[0m\u001b[0m\n\u001b[1;32m    913\u001b[0m         \u001b[0mresult\u001b[0m \u001b[0;34m=\u001b[0m \u001b[0mbuilder\u001b[0m\u001b[0;34m.\u001b[0m\u001b[0mparseFile\u001b[0m\u001b[0;34m(\u001b[0m\u001b[0mfile\u001b[0m\u001b[0;34m)\u001b[0m\u001b[0;34m\u001b[0m\u001b[0;34m\u001b[0m\u001b[0m\n",
      "\u001b[0;32m~/anaconda3/lib/python3.7/xml/dom/expatbuilder.py\u001b[0m in \u001b[0;36mparseFile\u001b[0;34m(self, file)\u001b[0m\n\u001b[1;32m    205\u001b[0m                 \u001b[0;32mif\u001b[0m \u001b[0;32mnot\u001b[0m \u001b[0mbuffer\u001b[0m\u001b[0;34m:\u001b[0m\u001b[0;34m\u001b[0m\u001b[0;34m\u001b[0m\u001b[0m\n\u001b[1;32m    206\u001b[0m                     \u001b[0;32mbreak\u001b[0m\u001b[0;34m\u001b[0m\u001b[0;34m\u001b[0m\u001b[0m\n\u001b[0;32m--> 207\u001b[0;31m                 \u001b[0mparser\u001b[0m\u001b[0;34m.\u001b[0m\u001b[0mParse\u001b[0m\u001b[0;34m(\u001b[0m\u001b[0mbuffer\u001b[0m\u001b[0;34m,\u001b[0m \u001b[0;36m0\u001b[0m\u001b[0;34m)\u001b[0m\u001b[0;34m\u001b[0m\u001b[0;34m\u001b[0m\u001b[0m\n\u001b[0m\u001b[1;32m    208\u001b[0m                 \u001b[0;32mif\u001b[0m \u001b[0mfirst_buffer\u001b[0m \u001b[0;32mand\u001b[0m \u001b[0mself\u001b[0m\u001b[0;34m.\u001b[0m\u001b[0mdocument\u001b[0m\u001b[0;34m.\u001b[0m\u001b[0mdocumentElement\u001b[0m\u001b[0;34m:\u001b[0m\u001b[0;34m\u001b[0m\u001b[0;34m\u001b[0m\u001b[0m\n\u001b[1;32m    209\u001b[0m                     \u001b[0mself\u001b[0m\u001b[0;34m.\u001b[0m\u001b[0m_setup_subset\u001b[0m\u001b[0;34m(\u001b[0m\u001b[0mbuffer\u001b[0m\u001b[0;34m)\u001b[0m\u001b[0;34m\u001b[0m\u001b[0;34m\u001b[0m\u001b[0m\n",
      "\u001b[0;32m/tmp/build/80754af9/python_1553721932202/work/Modules/pyexpat.c\u001b[0m in \u001b[0;36mCharacterData\u001b[0;34m()\u001b[0m\n",
      "\u001b[0;32m~/anaconda3/lib/python3.7/xml/dom/expatbuilder.py\u001b[0m in \u001b[0;36mcharacter_data_handler_cdata\u001b[0;34m(self, data)\u001b[0m\n\u001b[1;32m    272\u001b[0m             \u001b[0mself\u001b[0m\u001b[0;34m.\u001b[0m\u001b[0mcurNode\u001b[0m\u001b[0;34m.\u001b[0m\u001b[0mremoveChild\u001b[0m\u001b[0;34m(\u001b[0m\u001b[0mnode\u001b[0m\u001b[0;34m)\u001b[0m\u001b[0;34m\u001b[0m\u001b[0;34m\u001b[0m\u001b[0m\n\u001b[1;32m    273\u001b[0m \u001b[0;34m\u001b[0m\u001b[0m\n\u001b[0;32m--> 274\u001b[0;31m     \u001b[0;32mdef\u001b[0m \u001b[0mcharacter_data_handler_cdata\u001b[0m\u001b[0;34m(\u001b[0m\u001b[0mself\u001b[0m\u001b[0;34m,\u001b[0m \u001b[0mdata\u001b[0m\u001b[0;34m)\u001b[0m\u001b[0;34m:\u001b[0m\u001b[0;34m\u001b[0m\u001b[0;34m\u001b[0m\u001b[0m\n\u001b[0m\u001b[1;32m    275\u001b[0m         \u001b[0mchildNodes\u001b[0m \u001b[0;34m=\u001b[0m \u001b[0mself\u001b[0m\u001b[0;34m.\u001b[0m\u001b[0mcurNode\u001b[0m\u001b[0;34m.\u001b[0m\u001b[0mchildNodes\u001b[0m\u001b[0;34m\u001b[0m\u001b[0;34m\u001b[0m\u001b[0m\n\u001b[1;32m    276\u001b[0m         \u001b[0;32mif\u001b[0m \u001b[0mself\u001b[0m\u001b[0;34m.\u001b[0m\u001b[0m_cdata\u001b[0m\u001b[0;34m:\u001b[0m\u001b[0;34m\u001b[0m\u001b[0;34m\u001b[0m\u001b[0m\n",
      "\u001b[0;31mKeyboardInterrupt\u001b[0m: "
     ]
    }
   ],
   "source": [
    "doc_batch = documents\n",
    "parsed_documents = []\n",
    "\n",
    "# TODO: Parse date into proper format\n",
    "for doc in doc_batch:\n",
    "    doc_id = doc.split('/')[-1].split('.')[0]\n",
    "    doc = minidom.parse(doc)\n",
    "    bib = doc.getElementsByTagName('BIBLFULL')[0]\n",
    "    \n",
    "#     print(dir(bib))\n",
    "    text_obj = {doc_id: doc_id}\n",
    "    for n in bib.childNodes:\n",
    "        if n.nodeName in ('TITLESTMT', 'EDITIONSTMT', 'PUBLICATIONSTMT'):\n",
    "            for c in n.childNodes:\n",
    "                if len(c.childNodes) > 0:\n",
    "                    text_obj[c.nodeName.lower()] = text_obj.get(c.nodeName.lower(), []) + [c.childNodes[0].nodeValue]\n",
    "        elif n.nodeName == 'EXTENT':\n",
    "            pass\n",
    "        elif n.nodeName =='PUBLICATIONSTMT':\n",
    "            pass\n",
    "        elif n.nodeName == 'NOTESSTMT':\n",
    "            pass\n",
    "        elif n.nodeName == 'EDITIONSTMT':\n",
    "            pass\n",
    "        else:\n",
    "            print(n)\n",
    "    parsed_documents.append(text_obj)\n"
   ]
  },
  {
   "cell_type": "code",
   "execution_count": 188,
   "metadata": {},
   "outputs": [],
   "source": [
    "import spacy\n",
    "\n",
    "nlp = spacy.load('en_core_web_lg')\n"
   ]
  },
  {
   "cell_type": "code",
   "execution_count": 195,
   "metadata": {},
   "outputs": [
    {
     "name": "stdout",
     "output_type": "stream",
     "text": [
      "1658.\n",
      "1658 CARDINAL\n",
      "[between 1686-1692]\n",
      "1686 CARDINAL\n",
      "[1660]\n",
      "1660 DATE\n",
      "1694.\n",
      "1694 CARDINAL\n",
      "1641.\n",
      "1641 CARDINAL\n",
      "Iuly 7. 1649.\n",
      "7 CARDINAL\n",
      "1649 CARDINAL\n",
      "1647.\n",
      "1647 CARDINAL\n",
      "1700.\n",
      "1700 CARDINAL\n",
      "ca. 1689]\n",
      "1689 CARDINAL\n",
      "1656.\n",
      "1656 CARDINAL\n"
     ]
    }
   ],
   "source": [
    "# Likely just regex would be better here\n",
    "y_ents = [nlp(\", \".join(p['date'])) for p in parsed_documents]\n",
    "for e in y_ents[:10]:\n",
    "    print(e)\n",
    "    for ent in e.ents:\n",
    "        print(ent.text, ent.label_)"
   ]
  },
  {
   "cell_type": "code",
   "execution_count": null,
   "metadata": {},
   "outputs": [],
   "source": []
  },
  {
   "cell_type": "code",
   "execution_count": 196,
   "metadata": {},
   "outputs": [],
   "source": [
    "p_ents = [nlp(\", \".join(p['publisher'])) for p in parsed_documents]"
   ]
  },
  {
   "cell_type": "code",
   "execution_count": 197,
   "metadata": {},
   "outputs": [
    {
     "name": "stdout",
     "output_type": "stream",
     "text": [
      "Printed by J.G. for R. Royston, at the Angel in Ivie-Lane,\n",
      "R. Royston PERSON\n",
      "Printed for P. Brooksby, J. Deacon, J. Blare, J. Back.,\n",
      "P. Brooksby PERSON\n",
      "J. Deacon PERSON\n",
      "J. Blare PERSON\n",
      "J. Back PERSON\n",
      "Printed by Thomas Milbourn for Samuel Cleaver, near the Stone-Chappel in Pauls-Church-yard,\n",
      "Thomas Milbourn PERSON\n",
      "Samuel Cleaver PERSON\n",
      "the Stone-Chappel FAC\n",
      "Pauls-Church FAC\n",
      "Printed and are to be sold by Rich. Baldwin ...,\n",
      "Rich ORG\n",
      "Baldwin PERSON\n",
      "Printed for Thomas Lambert dwelling in Smithfield,\n",
      "Thomas Lambert PERSON\n",
      "Smithfield GPE\n",
      "Printed for Edward Husband, Printer to the Parliament of England,\n",
      "Edward Husband PERSON\n",
      "the Parliament of England ORG\n",
      "Printed by R.R.,\n",
      "R.R. ORG\n",
      "Printed for William Alkin ...,\n",
      "William Alkin PERSON\n",
      "s.n.,\n",
      "Printed by T.C. for Edw. Dod, and are to be sold at the Gunne in Ivy-lane,\n",
      "T.C. ORG\n",
      "Edw ORG\n",
      "Dod PERSON\n"
     ]
    }
   ],
   "source": [
    "for e in p_ents[:10]:\n",
    "    print(e)\n",
    "    for ent in e.ents:\n",
    "        print(ent.text, ent.label_)"
   ]
  },
  {
   "cell_type": "code",
   "execution_count": 198,
   "metadata": {},
   "outputs": [
    {
     "name": "stdout",
     "output_type": "stream",
     "text": [
      "London :\n",
      "London GPE\n",
      "[London] :\n",
      "London GPE\n",
      "London :\n",
      "London GPE\n",
      "London :\n",
      "London GPE\n",
      "London. :\n",
      "London GPE\n",
      "London :\n",
      "London GPE\n",
      "London :\n",
      "London GPE\n",
      "London :\n",
      "London GPE\n",
      "[S.l. :\n",
      "London :\n",
      "London GPE\n",
      "[London] :\n",
      "London GPE\n",
      "[London :\n",
      "London GPE\n",
      "London :\n",
      "London GPE\n",
      "Printed at London :\n",
      "London GPE\n",
      "[London :\n",
      "London GPE\n",
      "London :\n",
      "London GPE\n",
      "[London :\n",
      "London GPE\n",
      "London :\n",
      "London GPE\n",
      "Edinburgh :\n",
      "Edinburgh GPE\n",
      "[London] :\n",
      "London GPE\n",
      "London :\n",
      "London GPE\n",
      "London :\n",
      "London GPE\n",
      "[London] :\n",
      "London GPE\n",
      "[London :\n",
      "London GPE\n",
      "Printed at London :\n",
      "London GPE\n",
      "[London] :\n",
      "London GPE\n",
      "London :\n",
      "London GPE\n",
      "London :\n",
      "London GPE\n",
      "London :\n",
      "London GPE\n",
      "London: :\n",
      "London GPE\n"
     ]
    }
   ],
   "source": [
    "loc_ents = [nlp(\", \".join(p['pubplace'])) for p in parsed_documents]\n",
    "for e in loc_ents[:30]:\n",
    "    print(e)\n",
    "    for ent in e.ents:\n",
    "        print(ent.text, ent.label_)\n",
    "        "
   ]
  },
  {
   "cell_type": "code",
   "execution_count": 202,
   "metadata": {},
   "outputs": [
    {
     "data": {
      "text/plain": [
       "[['Ley, John, 1583-1662, attributed name.',\n",
       "  'Parker, Henry, 1604-1652, attributed name.'],\n",
       " ['England and Wales. Parliament. House of Commons.',\n",
       "  'City of London (England). Court of Common Council.'],\n",
       " ['Ireland. Lord Lieutenant (1658-1659 : Cromwell)',\n",
       "  'Cromwell, Henry, 1628-1674.'],\n",
       " ['Heylyn, Peter, 1600-1662.',\n",
       "  'Baxter, Richard, 1615-1691.',\n",
       "  'Bernard, Nicholas, d. 1661.',\n",
       "  'Hickman, Henry, d. 1692.',\n",
       "  'Harrington, James, 1611-1677.'],\n",
       " ['Hewson, John, d. 1662.', 'England and Wales. Parliament.'],\n",
       " ['England and Wales. Parliament.',\n",
       "  'Paget, William Paget, Baron, 1609-1678.',\n",
       "  'Browne, John, ca. 1608-1691.'],\n",
       " ['Cradock, Samuel, 1621?-1706.', 'University of Cambridge. Act verses.'],\n",
       " ['England and Wales. Parliament.',\n",
       "  'England and Wales. Parliament. House of Commons.'],\n",
       " ['England and Wales. Lord Protector (1653-1658 : O. Cromwell)',\n",
       "  'Cromwell, Oliver, 1599-1658.'],\n",
       " ['England and Wales. Lord Protector (1653-1658 : O. Cromwell)',\n",
       "  'Cromwell, Oliver, 1599-1658.'],\n",
       " ['England and Wales. Commissioners for Charitable Uses.',\n",
       "  'England and Wales. Lord Protector (1653-1658 : O. Cromwell)'],\n",
       " ['Edwards, Thomas, 1599-1647.', 'England and Wales. Parliament.'],\n",
       " ['England and Wales. Lord Protector (1658-1660 : R. Cromwell)',\n",
       "  'Cromwell, Richard, 1626-1712.'],\n",
       " ['Hobson, Paul.', 'S. S.'],\n",
       " ['England and Wales. Parliament.', 'England and Wales. Parliament.'],\n",
       " ['Gerard, John, 1632-1654.', 'Vowell, Peter, d. 1654.'],\n",
       " ['England and Wales. Parliament.',\n",
       "  'Charles I, King of England, 1600-1649.',\n",
       "  'England and Wales. Sovereign (1625-1649 : Charles I).'],\n",
       " ['Hall, Henry, d. 1680, attributed name.',\n",
       "  'Hall, Edmund, 1619 or 20-1687, attributed name.'],\n",
       " ['Hall, John, 1627-1656.', 'Milton, John, 1608-1674,'],\n",
       " ['Lambert, John, 1619-1683.', 'Albemarle, George Monck, Duke of, 1608-1670.'],\n",
       " ['England and Wales. Lord Protector (1653-1658 : O. Cromwell)',\n",
       "  'Cromwell, Oliver, 1599-1658.',\n",
       "  'England and Wales. Council of State.'],\n",
       " ['Hartlib, Samuel, d. 1662.',\n",
       "  'Dymock, Cressy.',\n",
       "  'Child, Robert, ca. 1612-1654, attributed name.',\n",
       "  'Weston, Richard, Sir, 1591-1652. Discours of husbandrie used in Brabant and Flanders.',\n",
       "  'Hartlib, Samuel, d. 1662.'],\n",
       " ['Commissioners of Sewers of the City of London.',\n",
       "  'Webbe, Benjamine.',\n",
       "  'Moreton, Edward.'],\n",
       " ['Kynaston, Thomas.',\n",
       "  'Carew, George, Esq.',\n",
       "  'Porter, George, Esq.',\n",
       "  'England and Wales. Sovereign (1660-1685 : Charles II)'],\n",
       " ['Goodwin, Thomas, 1600-1680.',\n",
       "  'Greenhill, William, 1591-1671.',\n",
       "  'Bridge, William, 1600?-1670.',\n",
       "  'Nye, Philip, 1596?-1672.',\n",
       "  'Simpson, Sidrach, 1600?-1655.',\n",
       "  'Carter, W. (William)'],\n",
       " ['England and Wales. Parliament. Committee of the Navy.',\n",
       "  'England and Wales. Parliament. House of Commons.'],\n",
       " ['Faldo, W.', 'Buckingham, John Sheffield, Duke of, 1648-1720 or 21.'],\n",
       " ['Grotius, Hugo, 1583-1645.',\n",
       "  'Campanella, Tommaso, 1568-1639.',\n",
       "  'H.C., S.T.B.'],\n",
       " ['England and Wales. Lord Protector (1653-1658 : O. Cromwell)',\n",
       "  'Cromwell, Oliver, 1599-1658.'],\n",
       " ['Loyal subject to the King and a lover of the late Lord Brookes and all his wel-wishers.',\n",
       "  'Quarles, Francis, 1592-1644, attributed name.'],\n",
       " ['City of London (England). Court of Common Council.',\n",
       "  'England and Wales. Parliament.'],\n",
       " ['Brooke, Robert Greville, Baron, 1607-1643.',\n",
       "  'England and Wales. Parliament.']]"
      ]
     },
     "execution_count": 202,
     "metadata": {},
     "output_type": "execute_result"
    }
   ],
   "source": [
    "[p.get('author', '') for p in parsed_documents if len(p.get('author', [])) > 1]\n"
   ]
  },
  {
   "cell_type": "code",
   "execution_count": 203,
   "metadata": {},
   "outputs": [
    {
     "name": "stdout",
     "output_type": "stream",
     "text": [
      "Gove, R. (Richard), 1587-1668.\n",
      "R. PERSON\n",
      "Richard PERSON\n",
      "1587-1668 DATE\n",
      "\n",
      "Griffith, John, fl. 1648-1659.\n",
      "Griffith PERSON\n",
      "John PERSON\n",
      "1648-1659 DATE\n",
      "Harlay de Champvallon, François de, 1625-1695.\n",
      "Harlay de Champvallon ORG\n",
      "François de, 1625-1695 ORG\n",
      "\n",
      "England and Wales. Parliament. House of Commons.\n",
      "England GPE\n",
      "Wales GPE\n",
      "Parliament ORG\n",
      "House of Commons ORG\n",
      "England and Wales. Parliament. House of Commons.\n",
      "England GPE\n",
      "Wales GPE\n",
      "Parliament ORG\n",
      "House of Commons ORG\n",
      "\n",
      "\n",
      "L'Estrange, Hamon, 1605-1660.\n",
      "L'Estrange, Hamon PERSON\n",
      "1605-1660 DATE\n",
      "Waldeck, Georg Friedrich, Graf von, 1620-1692.\n",
      "Waldeck GPE\n",
      "Georg Friedrich PERSON\n",
      "Graf von PERSON\n",
      "1620-1692 DATE\n",
      "England and Wales. Parliament. House of Commons.\n",
      "England GPE\n",
      "Wales GPE\n",
      "Parliament ORG\n",
      "House of Commons ORG\n",
      "\n",
      "England and Wales. Parliament.\n",
      "England GPE\n",
      "Wales GPE\n",
      "Parliament ORG\n",
      "Hopton, Ralph Hopton, Baron, 1598-1652.\n",
      "Hopton ORG\n",
      "Ralph Hopton PERSON\n",
      "Baron ORG\n",
      "1598-1652 DATE\n",
      "\n",
      "Cromwell, Oliver, 1599-1658.\n",
      "Cromwell ORG\n",
      "Oliver PERSON\n",
      "1599-1658 DATE\n",
      "\n",
      "Waldeck, Georg Friedrich, Graf von, 1620-1692.\n",
      "Waldeck GPE\n",
      "Georg Friedrich PERSON\n",
      "Graf von PERSON\n",
      "1620-1692 DATE\n",
      "Mussell, Francis.\n",
      "Mussell, Francis ORG\n",
      "Fairfax, Thomas Fairfax, Baron, 1612-1671.\n",
      "Fairfax GPE\n",
      "Thomas Fairfax GPE\n",
      "Baron ORG\n",
      "1612-1671 DATE\n",
      "England and Wales. Sovereign (1685-1688 : James II)\n",
      "England GPE\n",
      "Wales GPE\n",
      "1685-1688 DATE\n",
      "James II PERSON\n",
      "Ley, John, 1583-1662, attributed name., Parker, Henry, 1604-1652, attributed name.\n",
      "Ley PERSON\n",
      "1583-1662 DATE\n",
      "Parker, Henry ORG\n",
      "1604-1652 DATE\n",
      "\n",
      "England and Wales. Parliament.\n",
      "England GPE\n",
      "Wales GPE\n",
      "Parliament ORG\n",
      "\n",
      "Heath, Robert, fl. 1636-1659.\n",
      "Heath ORG\n",
      "Robert PERSON\n",
      "fl GPE\n",
      "1636-1659 DATE\n",
      "\n",
      "\n",
      "England and Wales. Parliament.\n",
      "England GPE\n",
      "Wales GPE\n",
      "Parliament ORG\n"
     ]
    }
   ],
   "source": [
    "loc_ents = [nlp(\", \".join(p.get('author', ''))) for p in parsed_documents[:30]]\n",
    "for e in loc_ents[:30]:\n",
    "    print(e)\n",
    "    for ent in e.ents:\n",
    "        print(ent.text, ent.label_)\n"
   ]
  },
  {
   "cell_type": "code",
   "execution_count": 218,
   "metadata": {},
   "outputs": [],
   "source": [
    "import json\n",
    "def transform_parsed_document(p):\n",
    "    publisher = [e.text for e in nlp(\", \".join(p.get('publisher', []))).ents if e.label_ in ('PERSON', 'ORG', 'GPE')]\n",
    "    date = [e.text for e in nlp(\", \".join(p.get('date', []))).ents if e.label_ in ('CARDINAL' or 'DATE') and 1500 < int(\"\".join(filter(lambda x: x.isnumeric(), e.text)) or 0) < 1900]\n",
    "    location = [e.text for e in nlp(\", \".join(p.get('pubplace', ''))).ents if e.label_ in ('GPE', 'ORG')] \n",
    "    author = [e.text for e in nlp(\", \".join(p.get('author', []))).ents if e.label_ in ('PERSON', 'ORG', 'GPE')]\n",
    "    \n",
    "    p['publisher'] = publisher\n",
    "    p['title'] = p.get('title', [''],)[0]\n",
    "    p['date'] = date[0] if len(date) > 0 else ''\n",
    "    p['pubplace'] = location\n",
    "    p['author'] = author\n",
    "    \n",
    "    return p\n",
    "\n",
    "docs = list(map(transform_parsed_document, parsed_documents))\n",
    "\n",
    "with open('test_parse.json', 'w') as f:\n",
    "    json.dump(docs, f)"
   ]
  },
  {
   "cell_type": "code",
   "execution_count": 205,
   "metadata": {},
   "outputs": [],
   "source": []
  },
  {
   "cell_type": "code",
   "execution_count": null,
   "metadata": {},
   "outputs": [],
   "source": []
  },
  {
   "cell_type": "code",
   "execution_count": null,
   "metadata": {},
   "outputs": [],
   "source": []
  },
  {
   "cell_type": "code",
   "execution_count": null,
   "metadata": {},
   "outputs": [],
   "source": []
  },
  {
   "cell_type": "code",
   "execution_count": null,
   "metadata": {},
   "outputs": [],
   "source": []
  }
 ],
 "metadata": {
  "kernelspec": {
   "display_name": "Python 3",
   "language": "python",
   "name": "python3"
  },
  "language_info": {
   "codemirror_mode": {
    "name": "ipython",
    "version": 3
   },
   "file_extension": ".py",
   "mimetype": "text/x-python",
   "name": "python",
   "nbconvert_exporter": "python",
   "pygments_lexer": "ipython3",
   "version": "3.7.3"
  }
 },
 "nbformat": 4,
 "nbformat_minor": 2
}
