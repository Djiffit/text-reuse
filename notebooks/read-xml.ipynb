{
 "cells": [
  {
   "cell_type": "code",
   "execution_count": 1,
   "metadata": {},
   "outputs": [],
   "source": [
    "from xml.dom import minidom"
   ]
  },
  {
   "cell_type": "code",
   "execution_count": 5,
   "metadata": {},
   "outputs": [],
   "source": [
    "doc = minidom.parse('../data/transfer_27765_files_2ae26df5/eebopool/eebo/eebo_phase1/A0/A00002/A00002.headed.xml')"
   ]
  },
  {
   "cell_type": "code",
   "execution_count": 19,
   "metadata": {},
   "outputs": [
    {
     "data": {
      "text/plain": [
       "'<FILEDESC><TITLESTMT><TITLE TYPE=\"245\" I2=\"4\">The brides ornaments viz. fiue meditations, morall and diuine. 1. Knowledge, 2. zeale, 3. temperance, 4. bountie, 5. ioy.</TITLE><AUTHOR>Aylett, Robert, 1583-1655?</AUTHOR></TITLESTMT><EXTENT>Approx. 248 KB of XML-encoded text transcribed from 67 1-bit group-IV TIFF page images.</EXTENT><PUBLICATIONSTMT><PUBPLACE>Ann Arbor, MI ; Oxford (UK) :</PUBPLACE><PUBLISHER>Text Creation Partnership,</PUBLISHER><DATE>2003-07 (EEBO-TCP Phase 1).</DATE><IDNO TYPE=\"DLPS\">A00002</IDNO>'"
      ]
     },
     "execution_count": 19,
     "metadata": {},
     "output_type": "execute_result"
    }
   ],
   "source": [
    "'<FILEDESC><TITLESTMT><TITLE TYPE=\"245\" I2=\"4\">The brides ornaments viz. fiue meditations, morall and diuine. 1. Knowledge, 2. zeale, 3. temperance, 4. bountie, 5. ioy.</TITLE><AUTHOR>Aylett, Robert, 1583-1655?</AUTHOR></TITLESTMT><EXTENT>Approx. 248 KB of XML-encoded text transcribed from 67 1-bit group-IV TIFF page images.</EXTENT><PUBLICATIONSTMT><PUBPLACE>Ann Arbor, MI ; Oxford (UK) :</PUBPLACE><PUBLISHER>Text Creation Partnership,</PUBLISHER><DATE>2003-07 (EEBO-TCP Phase 1).</DATE><IDNO TYPE=\"DLPS\">A00002</IDNO>'"
   ]
  },
  {
   "cell_type": "code",
   "execution_count": 67,
   "metadata": {},
   "outputs": [
    {
     "data": {
      "text/plain": [
       "'Aylett, Robert, 1583-1655?'"
      ]
     },
     "execution_count": 67,
     "metadata": {},
     "output_type": "execute_result"
    }
   ],
   "source": [
    "doc.getElementsByTagName('AUTHOR')[0].firstChild.data"
   ]
  },
  {
   "cell_type": "code",
   "execution_count": 66,
   "metadata": {},
   "outputs": [
    {
     "data": {
      "text/plain": [
       "['ATTRIBUTE_NODE',\n",
       " 'CDATA_SECTION_NODE',\n",
       " 'COMMENT_NODE',\n",
       " 'DOCUMENT_FRAGMENT_NODE',\n",
       " 'DOCUMENT_NODE',\n",
       " 'DOCUMENT_TYPE_NODE',\n",
       " 'ELEMENT_NODE',\n",
       " 'ENTITY_NODE',\n",
       " 'ENTITY_REFERENCE_NODE',\n",
       " 'NOTATION_NODE',\n",
       " 'PROCESSING_INSTRUCTION_NODE',\n",
       " 'TEXT_NODE',\n",
       " '__bool__',\n",
       " '__class__',\n",
       " '__delattr__',\n",
       " '__dict__',\n",
       " '__dir__',\n",
       " '__doc__',\n",
       " '__enter__',\n",
       " '__eq__',\n",
       " '__exit__',\n",
       " '__format__',\n",
       " '__ge__',\n",
       " '__getattribute__',\n",
       " '__gt__',\n",
       " '__hash__',\n",
       " '__init__',\n",
       " '__init_subclass__',\n",
       " '__le__',\n",
       " '__len__',\n",
       " '__lt__',\n",
       " '__module__',\n",
       " '__ne__',\n",
       " '__new__',\n",
       " '__reduce__',\n",
       " '__reduce_ex__',\n",
       " '__repr__',\n",
       " '__setattr__',\n",
       " '__sizeof__',\n",
       " '__slots__',\n",
       " '__str__',\n",
       " '__subclasshook__',\n",
       " '__weakref__',\n",
       " '_call_user_data_handler',\n",
       " '_data',\n",
       " '_get_childNodes',\n",
       " '_get_data',\n",
       " '_get_firstChild',\n",
       " '_get_isWhitespaceInElementContent',\n",
       " '_get_lastChild',\n",
       " '_get_length',\n",
       " '_get_localName',\n",
       " '_get_wholeText',\n",
       " '_set_data',\n",
       " 'appendChild',\n",
       " 'appendData',\n",
       " 'attributes',\n",
       " 'childNodes',\n",
       " 'cloneNode',\n",
       " 'data',\n",
       " 'deleteData',\n",
       " 'firstChild',\n",
       " 'getInterface',\n",
       " 'getUserData',\n",
       " 'hasChildNodes',\n",
       " 'insertBefore',\n",
       " 'insertData',\n",
       " 'isSameNode',\n",
       " 'isSupported',\n",
       " 'isWhitespaceInElementContent',\n",
       " 'lastChild',\n",
       " 'length',\n",
       " 'localName',\n",
       " 'namespaceURI',\n",
       " 'nextSibling',\n",
       " 'nodeName',\n",
       " 'nodeType',\n",
       " 'nodeValue',\n",
       " 'normalize',\n",
       " 'ownerDocument',\n",
       " 'parentNode',\n",
       " 'prefix',\n",
       " 'previousSibling',\n",
       " 'removeChild',\n",
       " 'replaceChild',\n",
       " 'replaceData',\n",
       " 'replaceWholeText',\n",
       " 'setUserData',\n",
       " 'splitText',\n",
       " 'substringData',\n",
       " 'toprettyxml',\n",
       " 'toxml',\n",
       " 'unlink',\n",
       " 'wholeText',\n",
       " 'writexml']"
      ]
     },
     "execution_count": 66,
     "metadata": {},
     "output_type": "execute_result"
    }
   ],
   "source": [
    "dir(doc.getElementsByTagName('AUTHOR')[0].firstChild)"
   ]
  },
  {
   "cell_type": "code",
   "execution_count": 53,
   "metadata": {},
   "outputs": [],
   "source": [
    "import xml.etree.ElementTree as ET\n",
    "\n",
    "tree = ET.parse('../data/transfer_27765_files_2ae26df5/eebopool/eebo/eebo_phase1/A0/A00002/A00002.headed.xml')"
   ]
  },
  {
   "cell_type": "code",
   "execution_count": 54,
   "metadata": {},
   "outputs": [],
   "source": [
    "root = tree.getroot()"
   ]
  },
  {
   "cell_type": "code",
   "execution_count": 59,
   "metadata": {},
   "outputs": [
    {
     "name": "stdout",
     "output_type": "stream",
     "text": [
      "<Element 'HEADER' at 0x7f56b3abb638>\n",
      "<Element 'EEBO' at 0x7f56b39eec78>\n"
     ]
    }
   ],
   "source": [
    "for elem in root:\n",
    "    print(elem)"
   ]
  },
  {
   "cell_type": "code",
   "execution_count": 228,
   "metadata": {},
   "outputs": [],
   "source": [
    "documents = []\n",
    "\n",
    "def recursive_crawler(folder):\n",
    "    items = os.listdir(folder)\n",
    "    for item in items:\n",
    "        p = folder + '/' + item\n",
    "        if os.path.isdir(p):\n",
    "            recursive_crawler(p)\n",
    "        else:\n",
    "            documents.append(p)"
   ]
  },
  {
   "cell_type": "code",
   "execution_count": 229,
   "metadata": {},
   "outputs": [],
   "source": [
    "start = '../data/transfer_27765_files_2ae26df5/eebopool/eebo'\n",
    "\n",
    "recursive_crawler(start)"
   ]
  },
  {
   "cell_type": "code",
   "execution_count": 336,
   "metadata": {},
   "outputs": [
    {
     "name": "stdout",
     "output_type": "stream",
     "text": [
      "<DOM Text node \"'\\n\\t\\t\\t\\t\\t'\">\n",
      "<DOM Text node \"'\\n\\t\\t\\t\\t\\t'\">\n",
      "<DOM Text node \"'\\n\\t\\t\\t\\t\\t'\">\n",
      "<DOM Text node \"'\\n\\t\\t\\t\\t\\t'\">\n",
      "<DOM Text node \"'\\n\\t\\t\\t\\t'\">\n",
      "<DOM Text node \"'\\n\\t\\t\\t\\t\\t'\">\n",
      "<DOM Text node \"'\\n\\t\\t\\t\\t\\t'\">\n",
      "<DOM Text node \"'\\n\\t\\t\\t\\t\\t'\">\n",
      "<DOM Text node \"'\\n\\t\\t\\t\\t\\t'\">\n",
      "<DOM Text node \"'\\n\\t\\t\\t\\t\\t'\">\n",
      "<DOM Text node \"'\\n\\t\\t\\t\\t'\">\n",
      "60327\n"
     ]
    }
   ],
   "source": [
    "doc_batch = documents\n",
    "parsed_documents = []\n",
    "\n",
    "# TODO: Parse date into proper format\n",
    "for doc in doc_batch:\n",
    "    doc_id = doc.split('/')[-1].split('.')[0]\n",
    "    doc = minidom.parse(doc)\n",
    "    bib = doc.getElementsByTagName('BIBLFULL')[0]\n",
    "    \n",
    "#     print(dir(bib))\n",
    "    text_obj = {\"id\": doc_id}\n",
    "    for n in bib.childNodes:\n",
    "        if n.nodeName in ('TITLESTMT', 'EDITIONSTMT', 'PUBLICATIONSTMT'):\n",
    "            for c in n.childNodes:\n",
    "                if len(c.childNodes) > 0:\n",
    "                    text_obj[c.nodeName.lower()] = text_obj.get(c.nodeName.lower(), []) + [c.childNodes[0].nodeValue]\n",
    "        elif n.nodeName == 'EXTENT':\n",
    "            pass\n",
    "        elif n.nodeName =='PUBLICATIONSTMT':\n",
    "            pass\n",
    "        elif n.nodeName == 'NOTESSTMT':\n",
    "            pass\n",
    "        elif n.nodeName == 'EDITIONSTMT':\n",
    "            pass\n",
    "        else:\n",
    "            print(n)\n",
    "    parsed_documents.append(text_obj)\n",
    "print(len(parsed_documents))"
   ]
  },
  {
   "cell_type": "code",
   "execution_count": 188,
   "metadata": {},
   "outputs": [],
   "source": [
    "import spacy\n",
    "\n",
    "nlp = spacy.load('en_core_web_lg')\n"
   ]
  },
  {
   "cell_type": "code",
   "execution_count": 262,
   "metadata": {},
   "outputs": [
    {
     "name": "stdout",
     "output_type": "stream",
     "text": [
      "\n",
      "\n",
      "\n",
      "\n",
      "\n",
      "\n",
      "\n",
      "\n",
      "\n",
      "\n"
     ]
    }
   ],
   "source": [
    "# Likely just regex would be better here\n",
    "y_ents = [nlp(\", \".join(p['date'])) for p in parsed_documents[:10]]\n",
    "for e in y_ents[:10]:\n",
    "    print(e)\n",
    "    for ent in e.ents:\n",
    "        print(ent.text, ent.label_)"
   ]
  },
  {
   "cell_type": "code",
   "execution_count": 311,
   "metadata": {},
   "outputs": [
    {
     "data": {
      "text/plain": [
       "[{'id': 'A85497',\n",
       "  'title': ['Pious thoughts vented in pithy ejaculations or, the way to make religious use of ordinary offered occasions. / By Richard Gove.'],\n",
       "  'author': ['Gove, R. (Richard), 1587-1668.'],\n",
       "  'pubplace': ['London :'],\n",
       "  'publisher': ['Printed by J.G. for R. Royston, at the Angel in Ivie-Lane,'],\n",
       "  'date': ['1658.']},\n",
       " {'id': 'A89289',\n",
       "  'title': ['[T]he Maidens frollick: or, [A brief] relation how six lusty lasses has prest full fourteen taylors on the backside of St. Clements, and other adjacent places. [T]o the tune of an Orange.'],\n",
       "  'pubplace': ['[London] :'],\n",
       "  'publisher': ['Printed for P. Brooksby, J. Deacon, J. Blare, J. Back.,'],\n",
       "  'date': ['[between 1686-1692]']},\n",
       " {'id': 'A85702',\n",
       "  'title': ['A declaration of some of those people in or near London, called Anabaptists, that own, and beleeve, that Gods love, in the death of his son, is extended to all men; and that are in the belief and practice of the doctrine of Christ, contained in Hebrew 6. 1, 2. Humbly presented to the high court of Parliament, and the people of this Common-wealth.'],\n",
       "  'author': ['Griffith, John, fl. 1648-1659.'],\n",
       "  'pubplace': ['London :'],\n",
       "  'publisher': ['Printed by Thomas Milbourn for Samuel Cleaver, near the Stone-Chappel in Pauls-Church-yard,'],\n",
       "  'date': ['[1660]']},\n",
       " {'id': 'A87116',\n",
       "  'title': ['A letter from the Arch-Bishop of Paris, to the late king James'],\n",
       "  'author': ['Harlay de Champvallon, François de, 1625-1695.'],\n",
       "  'pubplace': ['London :'],\n",
       "  'publisher': ['Printed and are to be sold by Rich. Baldwin ...,'],\n",
       "  'date': ['1694.']},\n",
       " {'id': 'A89314',\n",
       "  'title': ['The VVelch mans inventory han infentory of the covdes of William Morgan, ap Renald, ap Hugh, ap Richard, ap Thomas, ap Evan, ap Rice, in the county of Clamorgan, Shentleman.'],\n",
       "  'pubplace': ['London. :'],\n",
       "  'publisher': ['Printed for Thomas Lambert dwelling in Smithfield,'],\n",
       "  'date': ['1641.']},\n",
       " {'id': 'A83789',\n",
       "  'title': ['Die veneris, 6 Julii, 1649. Ordered by the Commons assembled in Parliament, that VVednesday next come three weeks be set apart and appointed for a day of publique fasting ...'],\n",
       "  'author': ['England and Wales. Parliament. House of Commons.'],\n",
       "  'pubplace': ['London :'],\n",
       "  'publisher': ['Printed for Edward Husband, Printer to the Parliament of England,'],\n",
       "  'date': ['Iuly 7. 1649.']},\n",
       " {'id': 'A83861',\n",
       "  'title': ['The votes of the Honourable House of Commons, in vindication of the eleven members charged by the army.'],\n",
       "  'author': ['England and Wales. Parliament. House of Commons.'],\n",
       "  'pubplace': ['London :'],\n",
       "  'publisher': ['Printed by R.R.,'],\n",
       "  'date': ['1647.']},\n",
       " {'id': 'A84960',\n",
       "  'title': ['A Full an [sic] true acount [sic] of a most barbarous and bloody murther committed by Edward Williams on the body of Mr. Hinton, at the Windsor-Castle in Green-Dragon Court, near Charing-Cross, on Thursday last with the occasion of their quarrel ... and how the coroners inquest brought it in wilful murther, and committed Mrs. Hinton to the gate-house ... for being accessary [sic]  to the same.'],\n",
       "  'pubplace': ['London :'],\n",
       "  'publisher': ['Printed for William Alkin ...,'],\n",
       "  'date': ['1700.']},\n",
       " {'id': 'A81285',\n",
       "  'title': ['The Case of Sarah Monk, the wife of Mr Christopher Monk, in answer to a paper, touching their marriage; the truth whereof is as followeth;.'],\n",
       "  'pubplace': ['[S.l. :'],\n",
       "  'publisher': ['s.n.,'],\n",
       "  'date': ['ca. 1689]']},\n",
       " {'id': 'A87881',\n",
       "  'title': ['The observator observed, or, Animadversions upon observations on the history of King Charles wherein that history is vindicated, partly illustrated, and severall other things tending to the rectification of some publique mistakes, are inserted : to which is added, at the latter end, the observators rejoinder.'],\n",
       "  'author': [\"L'Estrange, Hamon, 1605-1660.\"],\n",
       "  'pubplace': ['London :'],\n",
       "  'publisher': ['Printed by T.C. for Edw. Dod, and are to be sold at the Gunne in Ivy-lane,'],\n",
       "  'date': ['1656.']}]"
      ]
     },
     "execution_count": 311,
     "metadata": {},
     "output_type": "execute_result"
    }
   ],
   "source": [
    "parsed_documents"
   ]
  },
  {
   "cell_type": "code",
   "execution_count": 196,
   "metadata": {},
   "outputs": [],
   "source": [
    "p_ents = [nlp(\", \".join(p['publisher'])) for p in parsed_documents]"
   ]
  },
  {
   "cell_type": "code",
   "execution_count": 197,
   "metadata": {},
   "outputs": [
    {
     "name": "stdout",
     "output_type": "stream",
     "text": [
      "Printed by J.G. for R. Royston, at the Angel in Ivie-Lane,\n",
      "R. Royston PERSON\n",
      "Printed for P. Brooksby, J. Deacon, J. Blare, J. Back.,\n",
      "P. Brooksby PERSON\n",
      "J. Deacon PERSON\n",
      "J. Blare PERSON\n",
      "J. Back PERSON\n",
      "Printed by Thomas Milbourn for Samuel Cleaver, near the Stone-Chappel in Pauls-Church-yard,\n",
      "Thomas Milbourn PERSON\n",
      "Samuel Cleaver PERSON\n",
      "the Stone-Chappel FAC\n",
      "Pauls-Church FAC\n",
      "Printed and are to be sold by Rich. Baldwin ...,\n",
      "Rich ORG\n",
      "Baldwin PERSON\n",
      "Printed for Thomas Lambert dwelling in Smithfield,\n",
      "Thomas Lambert PERSON\n",
      "Smithfield GPE\n",
      "Printed for Edward Husband, Printer to the Parliament of England,\n",
      "Edward Husband PERSON\n",
      "the Parliament of England ORG\n",
      "Printed by R.R.,\n",
      "R.R. ORG\n",
      "Printed for William Alkin ...,\n",
      "William Alkin PERSON\n",
      "s.n.,\n",
      "Printed by T.C. for Edw. Dod, and are to be sold at the Gunne in Ivy-lane,\n",
      "T.C. ORG\n",
      "Edw ORG\n",
      "Dod PERSON\n"
     ]
    }
   ],
   "source": [
    "for e in p_ents[:10]:\n",
    "    print(e)\n",
    "    for ent in e.ents:\n",
    "        print(ent.text, ent.label_)"
   ]
  },
  {
   "cell_type": "code",
   "execution_count": 198,
   "metadata": {},
   "outputs": [
    {
     "name": "stdout",
     "output_type": "stream",
     "text": [
      "London :\n",
      "London GPE\n",
      "[London] :\n",
      "London GPE\n",
      "London :\n",
      "London GPE\n",
      "London :\n",
      "London GPE\n",
      "London. :\n",
      "London GPE\n",
      "London :\n",
      "London GPE\n",
      "London :\n",
      "London GPE\n",
      "London :\n",
      "London GPE\n",
      "[S.l. :\n",
      "London :\n",
      "London GPE\n",
      "[London] :\n",
      "London GPE\n",
      "[London :\n",
      "London GPE\n",
      "London :\n",
      "London GPE\n",
      "Printed at London :\n",
      "London GPE\n",
      "[London :\n",
      "London GPE\n",
      "London :\n",
      "London GPE\n",
      "[London :\n",
      "London GPE\n",
      "London :\n",
      "London GPE\n",
      "Edinburgh :\n",
      "Edinburgh GPE\n",
      "[London] :\n",
      "London GPE\n",
      "London :\n",
      "London GPE\n",
      "London :\n",
      "London GPE\n",
      "[London] :\n",
      "London GPE\n",
      "[London :\n",
      "London GPE\n",
      "Printed at London :\n",
      "London GPE\n",
      "[London] :\n",
      "London GPE\n",
      "London :\n",
      "London GPE\n",
      "London :\n",
      "London GPE\n",
      "London :\n",
      "London GPE\n",
      "London: :\n",
      "London GPE\n"
     ]
    }
   ],
   "source": [
    "loc_ents = [nlp(\", \".join(p['pubplace'])) for p in parsed_documents]\n",
    "for e in loc_ents[:30]:\n",
    "    print(e)\n",
    "    for ent in e.ents:\n",
    "        print(ent.text, ent.label_)\n",
    "        "
   ]
  },
  {
   "cell_type": "code",
   "execution_count": 202,
   "metadata": {},
   "outputs": [
    {
     "data": {
      "text/plain": [
       "[['Ley, John, 1583-1662, attributed name.',\n",
       "  'Parker, Henry, 1604-1652, attributed name.'],\n",
       " ['England and Wales. Parliament. House of Commons.',\n",
       "  'City of London (England). Court of Common Council.'],\n",
       " ['Ireland. Lord Lieutenant (1658-1659 : Cromwell)',\n",
       "  'Cromwell, Henry, 1628-1674.'],\n",
       " ['Heylyn, Peter, 1600-1662.',\n",
       "  'Baxter, Richard, 1615-1691.',\n",
       "  'Bernard, Nicholas, d. 1661.',\n",
       "  'Hickman, Henry, d. 1692.',\n",
       "  'Harrington, James, 1611-1677.'],\n",
       " ['Hewson, John, d. 1662.', 'England and Wales. Parliament.'],\n",
       " ['England and Wales. Parliament.',\n",
       "  'Paget, William Paget, Baron, 1609-1678.',\n",
       "  'Browne, John, ca. 1608-1691.'],\n",
       " ['Cradock, Samuel, 1621?-1706.', 'University of Cambridge. Act verses.'],\n",
       " ['England and Wales. Parliament.',\n",
       "  'England and Wales. Parliament. House of Commons.'],\n",
       " ['England and Wales. Lord Protector (1653-1658 : O. Cromwell)',\n",
       "  'Cromwell, Oliver, 1599-1658.'],\n",
       " ['England and Wales. Lord Protector (1653-1658 : O. Cromwell)',\n",
       "  'Cromwell, Oliver, 1599-1658.'],\n",
       " ['England and Wales. Commissioners for Charitable Uses.',\n",
       "  'England and Wales. Lord Protector (1653-1658 : O. Cromwell)'],\n",
       " ['Edwards, Thomas, 1599-1647.', 'England and Wales. Parliament.'],\n",
       " ['England and Wales. Lord Protector (1658-1660 : R. Cromwell)',\n",
       "  'Cromwell, Richard, 1626-1712.'],\n",
       " ['Hobson, Paul.', 'S. S.'],\n",
       " ['England and Wales. Parliament.', 'England and Wales. Parliament.'],\n",
       " ['Gerard, John, 1632-1654.', 'Vowell, Peter, d. 1654.'],\n",
       " ['England and Wales. Parliament.',\n",
       "  'Charles I, King of England, 1600-1649.',\n",
       "  'England and Wales. Sovereign (1625-1649 : Charles I).'],\n",
       " ['Hall, Henry, d. 1680, attributed name.',\n",
       "  'Hall, Edmund, 1619 or 20-1687, attributed name.'],\n",
       " ['Hall, John, 1627-1656.', 'Milton, John, 1608-1674,'],\n",
       " ['Lambert, John, 1619-1683.', 'Albemarle, George Monck, Duke of, 1608-1670.'],\n",
       " ['England and Wales. Lord Protector (1653-1658 : O. Cromwell)',\n",
       "  'Cromwell, Oliver, 1599-1658.',\n",
       "  'England and Wales. Council of State.'],\n",
       " ['Hartlib, Samuel, d. 1662.',\n",
       "  'Dymock, Cressy.',\n",
       "  'Child, Robert, ca. 1612-1654, attributed name.',\n",
       "  'Weston, Richard, Sir, 1591-1652. Discours of husbandrie used in Brabant and Flanders.',\n",
       "  'Hartlib, Samuel, d. 1662.'],\n",
       " ['Commissioners of Sewers of the City of London.',\n",
       "  'Webbe, Benjamine.',\n",
       "  'Moreton, Edward.'],\n",
       " ['Kynaston, Thomas.',\n",
       "  'Carew, George, Esq.',\n",
       "  'Porter, George, Esq.',\n",
       "  'England and Wales. Sovereign (1660-1685 : Charles II)'],\n",
       " ['Goodwin, Thomas, 1600-1680.',\n",
       "  'Greenhill, William, 1591-1671.',\n",
       "  'Bridge, William, 1600?-1670.',\n",
       "  'Nye, Philip, 1596?-1672.',\n",
       "  'Simpson, Sidrach, 1600?-1655.',\n",
       "  'Carter, W. (William)'],\n",
       " ['England and Wales. Parliament. Committee of the Navy.',\n",
       "  'England and Wales. Parliament. House of Commons.'],\n",
       " ['Faldo, W.', 'Buckingham, John Sheffield, Duke of, 1648-1720 or 21.'],\n",
       " ['Grotius, Hugo, 1583-1645.',\n",
       "  'Campanella, Tommaso, 1568-1639.',\n",
       "  'H.C., S.T.B.'],\n",
       " ['England and Wales. Lord Protector (1653-1658 : O. Cromwell)',\n",
       "  'Cromwell, Oliver, 1599-1658.'],\n",
       " ['Loyal subject to the King and a lover of the late Lord Brookes and all his wel-wishers.',\n",
       "  'Quarles, Francis, 1592-1644, attributed name.'],\n",
       " ['City of London (England). Court of Common Council.',\n",
       "  'England and Wales. Parliament.'],\n",
       " ['Brooke, Robert Greville, Baron, 1607-1643.',\n",
       "  'England and Wales. Parliament.']]"
      ]
     },
     "execution_count": 202,
     "metadata": {},
     "output_type": "execute_result"
    }
   ],
   "source": [
    "[p.get('author', '') for p in parsed_documents if len(p.get('author', [])) > 1]\n"
   ]
  },
  {
   "cell_type": "code",
   "execution_count": 203,
   "metadata": {},
   "outputs": [
    {
     "name": "stdout",
     "output_type": "stream",
     "text": [
      "Gove, R. (Richard), 1587-1668.\n",
      "R. PERSON\n",
      "Richard PERSON\n",
      "1587-1668 DATE\n",
      "\n",
      "Griffith, John, fl. 1648-1659.\n",
      "Griffith PERSON\n",
      "John PERSON\n",
      "1648-1659 DATE\n",
      "Harlay de Champvallon, François de, 1625-1695.\n",
      "Harlay de Champvallon ORG\n",
      "François de, 1625-1695 ORG\n",
      "\n",
      "England and Wales. Parliament. House of Commons.\n",
      "England GPE\n",
      "Wales GPE\n",
      "Parliament ORG\n",
      "House of Commons ORG\n",
      "England and Wales. Parliament. House of Commons.\n",
      "England GPE\n",
      "Wales GPE\n",
      "Parliament ORG\n",
      "House of Commons ORG\n",
      "\n",
      "\n",
      "L'Estrange, Hamon, 1605-1660.\n",
      "L'Estrange, Hamon PERSON\n",
      "1605-1660 DATE\n",
      "Waldeck, Georg Friedrich, Graf von, 1620-1692.\n",
      "Waldeck GPE\n",
      "Georg Friedrich PERSON\n",
      "Graf von PERSON\n",
      "1620-1692 DATE\n",
      "England and Wales. Parliament. House of Commons.\n",
      "England GPE\n",
      "Wales GPE\n",
      "Parliament ORG\n",
      "House of Commons ORG\n",
      "\n",
      "England and Wales. Parliament.\n",
      "England GPE\n",
      "Wales GPE\n",
      "Parliament ORG\n",
      "Hopton, Ralph Hopton, Baron, 1598-1652.\n",
      "Hopton ORG\n",
      "Ralph Hopton PERSON\n",
      "Baron ORG\n",
      "1598-1652 DATE\n",
      "\n",
      "Cromwell, Oliver, 1599-1658.\n",
      "Cromwell ORG\n",
      "Oliver PERSON\n",
      "1599-1658 DATE\n",
      "\n",
      "Waldeck, Georg Friedrich, Graf von, 1620-1692.\n",
      "Waldeck GPE\n",
      "Georg Friedrich PERSON\n",
      "Graf von PERSON\n",
      "1620-1692 DATE\n",
      "Mussell, Francis.\n",
      "Mussell, Francis ORG\n",
      "Fairfax, Thomas Fairfax, Baron, 1612-1671.\n",
      "Fairfax GPE\n",
      "Thomas Fairfax GPE\n",
      "Baron ORG\n",
      "1612-1671 DATE\n",
      "England and Wales. Sovereign (1685-1688 : James II)\n",
      "England GPE\n",
      "Wales GPE\n",
      "1685-1688 DATE\n",
      "James II PERSON\n",
      "Ley, John, 1583-1662, attributed name., Parker, Henry, 1604-1652, attributed name.\n",
      "Ley PERSON\n",
      "1583-1662 DATE\n",
      "Parker, Henry ORG\n",
      "1604-1652 DATE\n",
      "\n",
      "England and Wales. Parliament.\n",
      "England GPE\n",
      "Wales GPE\n",
      "Parliament ORG\n",
      "\n",
      "Heath, Robert, fl. 1636-1659.\n",
      "Heath ORG\n",
      "Robert PERSON\n",
      "fl GPE\n",
      "1636-1659 DATE\n",
      "\n",
      "\n",
      "England and Wales. Parliament.\n",
      "England GPE\n",
      "Wales GPE\n",
      "Parliament ORG\n"
     ]
    }
   ],
   "source": [
    "loc_ents = [nlp(\", \".join(p.get('author', ''))) for p in parsed_documents[:30]]\n",
    "for e in loc_ents[:30]:\n",
    "    print(e)\n",
    "    for ent in e.ents:\n",
    "        print(ent.text, ent.label_)\n"
   ]
  },
  {
   "cell_type": "code",
   "execution_count": 337,
   "metadata": {},
   "outputs": [],
   "source": [
    "import json\n",
    "def transform_parsed_document(p):\n",
    "    publisher = [e.text for e in nlp(\", \".join(p.get('publisher', []))).ents if e.label_ in ('PERSON', 'ORG', 'GPE')]\n",
    "    date = ''\n",
    "    location = [e.text for e in nlp(\", \".join(p.get('pubplace', ''))).ents if e.label_ in ('GPE', 'ORG')] \n",
    "    author = [e.text for e in nlp(\", \".join(p.get('author', []))).ents if e.label_ in ('PERSON', 'ORG', 'GPE')]\n",
    "\n",
    "    try:\n",
    "        for e in nlp(\", \".join(p.get('date', []))).ents:\n",
    "            if e.label_ in ('CARDINAL' or 'DATE') and 1500 < int(\"\".join(filter(lambda x: x.isnumeric(), e.text)) or 0) < 1900:\n",
    "                p['date'] = \"\".join(filter(lambda x: x.isnumeric(), e.text))\n",
    "    except:\n",
    "        pass\n",
    "        \n",
    "    p['publisher'] = publisher\n",
    "    if type(p.get('title', '')) == list:\n",
    "        p['title'] = p.get('title', [''],)[0]\n",
    "    \n",
    "    if type(p.get('date', '')) == list:\n",
    "        p['date'] = p.get('date', [''],)[0]\n",
    "    p['pubplace'] = location\n",
    "    p['author'] = author\n",
    "    \n",
    "    return p\n",
    "\n",
    "docs = list(map(transform_parsed_document, parsed_documents))\n",
    "\n",
    "with open('test_parse.json', 'w') as f:\n",
    "    json.dump(docs, f)"
   ]
  },
  {
   "cell_type": "code",
   "execution_count": 335,
   "metadata": {},
   "outputs": [],
   "source": [
    "# [transform_parsed_document(d) for d in parsed_documents[:30]]\n",
    "# sum([len(d.get('date', [])) == 0 for d in parsed_documents])\n",
    "\n",
    "# dated = [d for d in parsed_documents if len(d.get('date', [])) > 0][:20]"
   ]
  },
  {
   "cell_type": "code",
   "execution_count": 338,
   "metadata": {},
   "outputs": [
    {
     "data": {
      "text/plain": [
       "[{'id': 'A85497',\n",
       "  'title': 'Pious thoughts vented in pithy ejaculations or, the way to make religious use of ordinary offered occasions. / By Richard Gove.',\n",
       "  'author': ['R.', 'Richard'],\n",
       "  'pubplace': ['London'],\n",
       "  'publisher': ['R. Royston'],\n",
       "  'date': '1658'},\n",
       " {'id': 'A89289',\n",
       "  'title': '[T]he Maidens frollick: or, [A brief] relation how six lusty lasses has prest full fourteen taylors on the backside of St. Clements, and other adjacent places. [T]o the tune of an Orange.',\n",
       "  'pubplace': ['London'],\n",
       "  'publisher': ['P. Brooksby', 'J. Deacon', 'J. Blare', 'J. Back'],\n",
       "  'date': '1686',\n",
       "  'author': []},\n",
       " {'id': 'A85702',\n",
       "  'title': 'A declaration of some of those people in or near London, called Anabaptists, that own, and beleeve, that Gods love, in the death of his son, is extended to all men; and that are in the belief and practice of the doctrine of Christ, contained in Hebrew 6. 1, 2. Humbly presented to the high court of Parliament, and the people of this Common-wealth.',\n",
       "  'author': ['Griffith', 'John'],\n",
       "  'pubplace': ['London'],\n",
       "  'publisher': ['Thomas Milbourn', 'Samuel Cleaver'],\n",
       "  'date': '[1660]'},\n",
       " {'id': 'A87116',\n",
       "  'title': 'A letter from the Arch-Bishop of Paris, to the late king James',\n",
       "  'author': ['Harlay de Champvallon', 'François de, 1625-1695'],\n",
       "  'pubplace': ['London'],\n",
       "  'publisher': ['Rich', 'Baldwin'],\n",
       "  'date': '1694'},\n",
       " {'id': 'A89314',\n",
       "  'title': 'The VVelch mans inventory han infentory of the covdes of William Morgan, ap Renald, ap Hugh, ap Richard, ap Thomas, ap Evan, ap Rice, in the county of Clamorgan, Shentleman.',\n",
       "  'pubplace': ['London'],\n",
       "  'publisher': ['Thomas Lambert', 'Smithfield'],\n",
       "  'date': '1641',\n",
       "  'author': []},\n",
       " {'id': 'A83789',\n",
       "  'title': 'Die veneris, 6 Julii, 1649. Ordered by the Commons assembled in Parliament, that VVednesday next come three weeks be set apart and appointed for a day of publique fasting ...',\n",
       "  'author': ['England', 'Wales', 'Parliament', 'House of Commons'],\n",
       "  'pubplace': ['London'],\n",
       "  'publisher': ['Edward Husband', 'the Parliament of England'],\n",
       "  'date': '1649'},\n",
       " {'id': 'A83861',\n",
       "  'title': 'The votes of the Honourable House of Commons, in vindication of the eleven members charged by the army.',\n",
       "  'author': ['England', 'Wales', 'Parliament', 'House of Commons'],\n",
       "  'pubplace': ['London'],\n",
       "  'publisher': ['R.R.'],\n",
       "  'date': '1647'},\n",
       " {'id': 'A84960',\n",
       "  'title': 'A Full an [sic] true acount [sic] of a most barbarous and bloody murther committed by Edward Williams on the body of Mr. Hinton, at the Windsor-Castle in Green-Dragon Court, near Charing-Cross, on Thursday last with the occasion of their quarrel ... and how the coroners inquest brought it in wilful murther, and committed Mrs. Hinton to the gate-house ... for being accessary [sic]  to the same.',\n",
       "  'pubplace': ['London'],\n",
       "  'publisher': ['William Alkin'],\n",
       "  'date': '1700',\n",
       "  'author': []},\n",
       " {'id': 'A81285',\n",
       "  'title': 'The Case of Sarah Monk, the wife of Mr Christopher Monk, in answer to a paper, touching their marriage; the truth whereof is as followeth;.',\n",
       "  'pubplace': [],\n",
       "  'publisher': [],\n",
       "  'date': '1689',\n",
       "  'author': []},\n",
       " {'id': 'A87881',\n",
       "  'title': 'The observator observed, or, Animadversions upon observations on the history of King Charles wherein that history is vindicated, partly illustrated, and severall other things tending to the rectification of some publique mistakes, are inserted : to which is added, at the latter end, the observators rejoinder.',\n",
       "  'author': [\"L'Estrange, Hamon\"],\n",
       "  'pubplace': ['London'],\n",
       "  'publisher': ['T.C.', 'Edw', 'Dod'],\n",
       "  'date': '1656'}]"
      ]
     },
     "execution_count": 338,
     "metadata": {},
     "output_type": "execute_result"
    }
   ],
   "source": [
    "docs[:10]"
   ]
  },
  {
   "cell_type": "code",
   "execution_count": null,
   "metadata": {},
   "outputs": [],
   "source": []
  },
  {
   "cell_type": "code",
   "execution_count": null,
   "metadata": {},
   "outputs": [],
   "source": []
  },
  {
   "cell_type": "code",
   "execution_count": null,
   "metadata": {},
   "outputs": [],
   "source": []
  }
 ],
 "metadata": {
  "kernelspec": {
   "display_name": "Python 3",
   "language": "python",
   "name": "python3"
  },
  "language_info": {
   "codemirror_mode": {
    "name": "ipython",
    "version": 3
   },
   "file_extension": ".py",
   "mimetype": "text/x-python",
   "name": "python",
   "nbconvert_exporter": "python",
   "pygments_lexer": "ipython3",
   "version": "3.7.3"
  }
 },
 "nbformat": 4,
 "nbformat_minor": 2
}
