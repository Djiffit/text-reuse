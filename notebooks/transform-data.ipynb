{
 "cells": [
  {
   "cell_type": "code",
   "execution_count": null,
   "metadata": {},
   "outputs": [
    {
     "name": "stdout",
     "output_type": "stream",
     "text": [
      "gzip: ../data/clusters/clusters_6750 already exists; do you wish to overwrite (y or n)? "
     ]
    }
   ],
   "source": [
    "import os\n",
    "import gzip\n",
    "\n",
    "zipped = [c for c in os.listdir('../data/clusters') if c.endswith('.gz')]\n",
    "json_files = [c for c in os.listdir('../data/clusters') if not c.endswith('.gz')]\n",
    "\n",
    "for z in zipped:\n",
    "    cmd = f'../data/clusters/{z}'\n",
    "    !gunzip {cmd}\n"
   ]
  },
  {
   "cell_type": "code",
   "execution_count": 11,
   "metadata": {},
   "outputs": [],
   "source": [
    "json_files = [c for c in os.listdir('../data/clusters') if not c.endswith('.gz')]"
   ]
  },
  {
   "cell_type": "code",
   "execution_count": 1,
   "metadata": {},
   "outputs": [
    {
     "name": "stdout",
     "output_type": "stream",
     "text": [
      "19801 8523\n"
     ]
    }
   ],
   "source": [
    "import os\n",
    "zipped = [c for c in os.listdir('../data/clusters') if c.endswith('.gz')]\n",
    "json_files = [c for c in os.listdir('../data/clusters') if not c.endswith('.gz')]\n",
    "print(len(zipped), len(json_files))"
   ]
  },
  {
   "cell_type": "code",
   "execution_count": 6,
   "metadata": {},
   "outputs": [
    {
     "name": "stdout",
     "output_type": "stream",
     "text": [
      "{'id': 200972, 'doc_id': 'eccotxt/ECCO_II/ECCOF0001/ECCOF0001-C00022/Monographs/1765200101/1765200101.txt__7100000_7200000', 'text': '\\n\\n1509. dom of Italy. After that, they fell under the Dominion\\n\\nof the German Emprors, who governed them by their\\nVicars. At length, either there Vicars were become So-\\nvereigns, or, being expelled, the Cities had recovered their\\nliberty, to fall again afterwards under the Tyranny of\\nCome private Persons, who had usurped an absolute power.\\nOf there the Venetians had acquired them, either by Mo-\\nney or force of arms. But however it be, when the', 'node': 'eccotxt/ECCO_II/ECCOF0001/ECCOF0001-C00022/Monographs/1765200101/1765200101.txt__7100000_7200000___23034_23380', 'encoded_indices': ['23034', '23380'], 'original_indices': [30029, 30476]}\n"
     ]
    }
   ],
   "source": [
    "import json\n",
    "\n",
    "name = json_files[0]\n",
    "\n",
    "with open('../data/clusters/' + name) as f:\n",
    "    data = json.load(f)\n",
    "#     print(data[list(data.keys())[0]])\n",
    "    print(data[list(data.keys())[0]]['hits'][2])"
   ]
  },
  {
   "cell_type": "markdown",
   "metadata": {},
   "source": [
    "So the cluster ID's seem to refer paths for the txt files."
   ]
  },
  {
   "cell_type": "code",
   "execution_count": 9,
   "metadata": {},
   "outputs": [
    {
     "data": {
      "text/plain": [
       "{'clusters_1', 'clusters_27643', 'clusters_6750'}"
      ]
     },
     "execution_count": 9,
     "metadata": {},
     "output_type": "execute_result"
    }
   ],
   "source": []
  },
  {
   "cell_type": "code",
   "execution_count": null,
   "metadata": {},
   "outputs": [],
   "source": []
  },
  {
   "cell_type": "code",
   "execution_count": null,
   "metadata": {},
   "outputs": [],
   "source": []
  },
  {
   "cell_type": "code",
   "execution_count": null,
   "metadata": {},
   "outputs": [],
   "source": []
  },
  {
   "cell_type": "code",
   "execution_count": 38,
   "metadata": {},
   "outputs": [
    {
     "data": {
      "text/plain": [
       "[4, 6, 8, 10]"
      ]
     },
     "execution_count": 38,
     "metadata": {},
     "output_type": "execute_result"
    }
   ],
   "source": []
  },
  {
   "cell_type": "code",
   "execution_count": null,
   "metadata": {},
   "outputs": [],
   "source": []
  }
 ],
 "metadata": {
  "kernelspec": {
   "display_name": "Python 3",
   "language": "python",
   "name": "python3"
  },
  "language_info": {
   "codemirror_mode": {
    "name": "ipython",
    "version": 3
   },
   "file_extension": ".py",
   "mimetype": "text/x-python",
   "name": "python",
   "nbconvert_exporter": "python",
   "pygments_lexer": "ipython3",
   "version": "3.7.3"
  }
 },
 "nbformat": 4,
 "nbformat_minor": 2
}
